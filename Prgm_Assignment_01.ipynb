{
 "cells": [
  {
   "cell_type": "code",
   "execution_count": 5,
   "id": "6c2f3fb9",
   "metadata": {},
   "outputs": [
    {
     "name": "stdout",
     "output_type": "stream",
     "text": [
      "Hello Python\n"
     ]
    }
   ],
   "source": [
    "#Write a Python program to print \"Hello Python\"?\n",
    "print ('Hello Python')"
   ]
  },
  {
   "cell_type": "code",
   "execution_count": 6,
   "id": "9744809e",
   "metadata": {},
   "outputs": [],
   "source": [
    "# Write a Python program to do arithmetical operations addition and division.?"
   ]
  },
  {
   "cell_type": "code",
   "execution_count": 20,
   "id": "ddc72853",
   "metadata": {},
   "outputs": [
    {
     "name": "stdout",
     "output_type": "stream",
     "text": [
      "15\n",
      "15\n",
      "30\n"
     ]
    }
   ],
   "source": [
    "a=int(input())\n",
    "b=int(input())\n",
    "sum=a+b\n",
    "print(sum)"
   ]
  },
  {
   "cell_type": "code",
   "execution_count": 22,
   "id": "0cd4f19f",
   "metadata": {},
   "outputs": [
    {
     "name": "stdout",
     "output_type": "stream",
     "text": [
      "8\n",
      "2\n",
      "4.0\n"
     ]
    }
   ],
   "source": [
    "a=int(input())\n",
    "b=int(input())\n",
    "div=a/b\n",
    "print(div)"
   ]
  },
  {
   "cell_type": "code",
   "execution_count": 40,
   "id": "33f73ed1",
   "metadata": {},
   "outputs": [
    {
     "name": "stdout",
     "output_type": "stream",
     "text": [
      "enter value of base 5\n",
      "enter value of height 7\n",
      "The area of triangle is 17.5\n"
     ]
    }
   ],
   "source": [
    "# Write a Python program to find the area of a triangle?\n",
    "base=int(input('enter value of base '))\n",
    "height=int(input('enter value of height '))\n",
    "area=1/2 * base * height\n",
    "print('The area of triangle is', area)"
   ]
  },
  {
   "cell_type": "code",
   "execution_count": 41,
   "id": "32584cd8",
   "metadata": {},
   "outputs": [],
   "source": [
    "# Write a Python program to swap two variables?"
   ]
  },
  {
   "cell_type": "code",
   "execution_count": 42,
   "id": "03acb320",
   "metadata": {},
   "outputs": [
    {
     "name": "stdout",
     "output_type": "stream",
     "text": [
      "enter value of a 8\n",
      "enter value of b 1\n",
      "the value of a is 1\n",
      "the value of b is 8\n"
     ]
    }
   ],
   "source": [
    "a =int(input('enter value of a '))\n",
    "b=int(input('enter value of b '))\n",
    "temp=a\n",
    "a=b\n",
    "b=temp\n",
    "print('the value of a is', a)\n",
    "print('the value of b is', b)"
   ]
  },
  {
   "cell_type": "code",
   "execution_count": 24,
   "id": "78215a2a",
   "metadata": {},
   "outputs": [],
   "source": [
    "# Write a Python program to generate a random number?"
   ]
  },
  {
   "cell_type": "code",
   "execution_count": 51,
   "id": "9e3b2979",
   "metadata": {},
   "outputs": [
    {
     "name": "stdout",
     "output_type": "stream",
     "text": [
      "0.12445626695807199\n"
     ]
    }
   ],
   "source": [
    "import random\n",
    "x=random.random()\n",
    "print(x)"
   ]
  },
  {
   "cell_type": "code",
   "execution_count": null,
   "id": "faaf69cb",
   "metadata": {},
   "outputs": [],
   "source": []
  }
 ],
 "metadata": {
  "kernelspec": {
   "display_name": "Python 3 (ipykernel)",
   "language": "python",
   "name": "python3"
  },
  "language_info": {
   "codemirror_mode": {
    "name": "ipython",
    "version": 3
   },
   "file_extension": ".py",
   "mimetype": "text/x-python",
   "name": "python",
   "nbconvert_exporter": "python",
   "pygments_lexer": "ipython3",
   "version": "3.9.7"
  }
 },
 "nbformat": 4,
 "nbformat_minor": 5
}
