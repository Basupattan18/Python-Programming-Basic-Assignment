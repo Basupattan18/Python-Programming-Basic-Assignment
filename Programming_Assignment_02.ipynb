{
 "cells": [
  {
   "cell_type": "code",
   "execution_count": 6,
   "id": "dcbea137",
   "metadata": {},
   "outputs": [
    {
     "name": "stdout",
     "output_type": "stream",
     "text": [
      "enter Kilometers 1\n",
      "0.621 miles\n"
     ]
    }
   ],
   "source": [
    "# Write a Python program to convert kilometers to miles?\n",
    "Kilometers=int(input('enter Kilometers '))\n",
    "miles= Kilometers * 0.621\n",
    "print(miles, 'miles')"
   ]
  },
  {
   "cell_type": "code",
   "execution_count": 7,
   "id": "0b24fd97",
   "metadata": {},
   "outputs": [
    {
     "name": "stdout",
     "output_type": "stream",
     "text": [
      "enter Celsius vlaue 0\n",
      "32.0 Fahrenheit\n"
     ]
    }
   ],
   "source": [
    "# Write a Python program to convert Celsius to Fahrenheit?\n",
    "Celsius=int(input('enter Celsius vlaue '))\n",
    "Fahrenheit=(Celsius * 9/5)+32\n",
    "print(Fahrenheit,'Fahrenheit')"
   ]
  },
  {
   "cell_type": "code",
   "execution_count": 10,
   "id": "f923195f",
   "metadata": {},
   "outputs": [
    {
     "name": "stdout",
     "output_type": "stream",
     "text": [
      "Enter year 2022\n",
      "enter month 02\n",
      "   February 2022\n",
      "Mo Tu We Th Fr Sa Su\n",
      "    1  2  3  4  5  6\n",
      " 7  8  9 10 11 12 13\n",
      "14 15 16 17 18 19 20\n",
      "21 22 23 24 25 26 27\n",
      "28\n",
      "\n"
     ]
    }
   ],
   "source": [
    "# Write a Python program to display calendar?\n",
    "import calendar\n",
    "year=int(input('Enter year '))\n",
    "month=int(input('enter month '))\n",
    "print(calendar.month(year,month))"
   ]
  },
  {
   "cell_type": "code",
   "execution_count": 9,
   "id": "b113892a",
   "metadata": {},
   "outputs": [],
   "source": [
    "# Write a Python program to solve quadratic equation?\n"
   ]
  },
  {
   "cell_type": "code",
   "execution_count": null,
   "id": "05c5a951",
   "metadata": {},
   "outputs": [],
   "source": []
  },
  {
   "cell_type": "code",
   "execution_count": 10,
   "id": "0bdf9702",
   "metadata": {},
   "outputs": [],
   "source": [
    "# Write a Python program to swap two variables without temp variable?"
   ]
  },
  {
   "cell_type": "code",
   "execution_count": 31,
   "id": "1309fc94",
   "metadata": {},
   "outputs": [
    {
     "name": "stdout",
     "output_type": "stream",
     "text": [
      "Enter value of a 8\n",
      "Enter value of b 4\n",
      "value of a is  4\n",
      "value of b is  8\n"
     ]
    }
   ],
   "source": [
    "a=int(input('Enter value of a '))\n",
    "b=int(input('Enter value of b '))\n",
    "a,b=b,a\n",
    "print('value of a is ',a)\n",
    "print('value of b is ',b)"
   ]
  },
  {
   "cell_type": "code",
   "execution_count": null,
   "id": "b49ba283",
   "metadata": {},
   "outputs": [],
   "source": []
  }
 ],
 "metadata": {
  "kernelspec": {
   "display_name": "Python 3 (ipykernel)",
   "language": "python",
   "name": "python3"
  },
  "language_info": {
   "codemirror_mode": {
    "name": "ipython",
    "version": 3
   },
   "file_extension": ".py",
   "mimetype": "text/x-python",
   "name": "python",
   "nbconvert_exporter": "python",
   "pygments_lexer": "ipython3",
   "version": "3.9.7"
  }
 },
 "nbformat": 4,
 "nbformat_minor": 5
}
